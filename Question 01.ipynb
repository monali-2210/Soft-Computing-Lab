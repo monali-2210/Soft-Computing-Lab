{
 "cells": [
  {
   "cell_type": "markdown",
   "metadata": {},
   "source": [
    "# Artificial Neural Network\n",
    "1. A set of nodes -> each node has input and output\n",
    "2. Each node performes some computation => node function/ activation function"
   ]
  },
  {
   "cell_type": "markdown",
   "metadata": {},
   "source": [
    "- AND\n",
    "- OR\n",
    "- XNOR\n",
    "- XOR"
   ]
  },
  {
   "cell_type": "markdown",
   "metadata": {},
   "source": [
    "## 1. AND"
   ]
  },
  {
   "cell_type": "code",
   "execution_count": 17,
   "metadata": {},
   "outputs": [],
   "source": [
    "def update_weight(target, a, W_old, b_old, p):\n",
    "    e = target - a\n",
    "    W_new = W_old + e*p\n",
    "    b_new = b_old + e\n",
    "    return W_new, b_new"
   ]
  },
  {
   "cell_type": "code",
   "execution_count": 18,
   "metadata": {},
   "outputs": [],
   "source": [
    "def calc_and(Weight, b, p):\n",
    "    p = np.transpose(p)\n",
    "    a = np.dot(Weight, p) + b\n",
    "    print(a)\n",
    "    if a > 1.5:\n",
    "        a = 1\n",
    "    else:\n",
    "        a = 0\n",
    "    return a"
   ]
  },
  {
   "cell_type": "code",
   "execution_count": 19,
   "metadata": {},
   "outputs": [],
   "source": [
    "import numpy as np\n",
    "W = np.array([1.0, 0.8])\n",
    "b = 0.1\n",
    "\n",
    "p1 = np.array([1, 1])\n",
    "t1 = 1\n",
    "p2 = np.array([1, 0])\n",
    "t2 = 0\n",
    "p3 = np.array([0, 1])\n",
    "t3 = 0\n",
    "p4 = np.array([0, 0])\n",
    "t4 = 0"
   ]
  },
  {
   "cell_type": "code",
   "execution_count": 20,
   "metadata": {},
   "outputs": [
    {
     "name": "stdout",
     "output_type": "stream",
     "text": [
      "1.9000000000000001\n"
     ]
    },
    {
     "data": {
      "text/plain": [
       "(array([1. , 0.8]), 0.1)"
      ]
     },
     "execution_count": 20,
     "metadata": {},
     "output_type": "execute_result"
    }
   ],
   "source": [
    "a1 = calc_and(W, b, p1)\n",
    "W, b = update_weight(t1, a1, W, b, p1)\n",
    "W, b"
   ]
  },
  {
   "cell_type": "code",
   "execution_count": 21,
   "metadata": {},
   "outputs": [
    {
     "name": "stdout",
     "output_type": "stream",
     "text": [
      "1.1\n"
     ]
    },
    {
     "data": {
      "text/plain": [
       "(array([1. , 0.8]), 0.1)"
      ]
     },
     "execution_count": 21,
     "metadata": {},
     "output_type": "execute_result"
    }
   ],
   "source": [
    "a2 = calc_and(W, b, p2)\n",
    "W, b = update_weight(t2, a2, W, b, p2)\n",
    "W, b"
   ]
  },
  {
   "cell_type": "code",
   "execution_count": 22,
   "metadata": {},
   "outputs": [
    {
     "name": "stdout",
     "output_type": "stream",
     "text": [
      "0.9\n"
     ]
    },
    {
     "data": {
      "text/plain": [
       "(array([1. , 0.8]), 0.1)"
      ]
     },
     "execution_count": 22,
     "metadata": {},
     "output_type": "execute_result"
    }
   ],
   "source": [
    "a3 = calc_and(W, b, p3)\n",
    "W, b = update_weight(t3, a3, W, b, p3)\n",
    "W, b"
   ]
  },
  {
   "cell_type": "code",
   "execution_count": 23,
   "metadata": {},
   "outputs": [
    {
     "name": "stdout",
     "output_type": "stream",
     "text": [
      "0.1\n"
     ]
    },
    {
     "data": {
      "text/plain": [
       "(array([1. , 0.8]), 0.1)"
      ]
     },
     "execution_count": 23,
     "metadata": {},
     "output_type": "execute_result"
    }
   ],
   "source": [
    "a4 = calc_and(W, b, p4)\n",
    "W, b = update_weight(t4, a4, W, b, p4)\n",
    "W, b"
   ]
  },
  {
   "cell_type": "code",
   "execution_count": 24,
   "metadata": {},
   "outputs": [
    {
     "name": "stdout",
     "output_type": "stream",
     "text": [
      "1.9000000000000001\n"
     ]
    },
    {
     "data": {
      "text/plain": [
       "1"
      ]
     },
     "execution_count": 24,
     "metadata": {},
     "output_type": "execute_result"
    }
   ],
   "source": [
    "x = calc_and(W, b, np.array([1, 1]))\n",
    "x"
   ]
  },
  {
   "cell_type": "markdown",
   "metadata": {},
   "source": [
    "## 2. OR"
   ]
  },
  {
   "cell_type": "code",
   "execution_count": 919,
   "metadata": {},
   "outputs": [],
   "source": [
    "import numpy as np\n",
    "W = np.array([1, 1])\n",
    "b = 0.6\n",
    "\n",
    "p1 = np.array([1, 1])\n",
    "t1 = 1\n",
    "p2 = np.array([1, 0])\n",
    "t2 = 1\n",
    "p3 = np.array([0, 0])\n",
    "t3 = 0\n",
    "p4 = np.array([0, 1])\n",
    "t4 = 1"
   ]
  },
  {
   "cell_type": "code",
   "execution_count": 925,
   "metadata": {},
   "outputs": [],
   "source": [
    "def calc_or(Weight, b, p):\n",
    "    p = np.transpose(p)\n",
    "    a = np.dot(Weight, p) + b\n",
    "    print(a)\n",
    "    if a < 1:\n",
    "        a = 0\n",
    "    else:\n",
    "        a = 1\n",
    "    return a"
   ]
  },
  {
   "cell_type": "code",
   "execution_count": 926,
   "metadata": {},
   "outputs": [
    {
     "name": "stdout",
     "output_type": "stream",
     "text": [
      "1.6\n"
     ]
    },
    {
     "data": {
      "text/plain": [
       "(array([1, 1]), -0.4)"
      ]
     },
     "execution_count": 926,
     "metadata": {},
     "output_type": "execute_result"
    }
   ],
   "source": [
    "a1 = calc_or(W, b, p1)\n",
    "W, b = update_weight(t1, a1, W, b, p1)\n",
    "W, b"
   ]
  },
  {
   "cell_type": "code",
   "execution_count": 927,
   "metadata": {},
   "outputs": [
    {
     "name": "stdout",
     "output_type": "stream",
     "text": [
      "0.6\n"
     ]
    },
    {
     "data": {
      "text/plain": [
       "(array([2, 1]), 0.6)"
      ]
     },
     "execution_count": 927,
     "metadata": {},
     "output_type": "execute_result"
    }
   ],
   "source": [
    "a2 = calc_or(W, b, p2)\n",
    "W, b = update_weight(t2, a2, W, b, p2)\n",
    "W, b"
   ]
  },
  {
   "cell_type": "code",
   "execution_count": 928,
   "metadata": {},
   "outputs": [
    {
     "name": "stdout",
     "output_type": "stream",
     "text": [
      "0.6\n"
     ]
    },
    {
     "data": {
      "text/plain": [
       "(array([2, 1]), 0.6)"
      ]
     },
     "execution_count": 928,
     "metadata": {},
     "output_type": "execute_result"
    }
   ],
   "source": [
    "a3 = calc_or(W, b, p3)\n",
    "W, b = update_weight(t3, a3, W, b, p3)\n",
    "W, b"
   ]
  },
  {
   "cell_type": "code",
   "execution_count": 929,
   "metadata": {},
   "outputs": [
    {
     "name": "stdout",
     "output_type": "stream",
     "text": [
      "1.6\n"
     ]
    },
    {
     "data": {
      "text/plain": [
       "(array([2, 1]), 0.6)"
      ]
     },
     "execution_count": 929,
     "metadata": {},
     "output_type": "execute_result"
    }
   ],
   "source": [
    "a4 = calc_or(W, b, p4)\n",
    "W, b = update_weight(t4, a4, W, b, p4)\n",
    "W, b"
   ]
  },
  {
   "cell_type": "code",
   "execution_count": 934,
   "metadata": {},
   "outputs": [
    {
     "name": "stdout",
     "output_type": "stream",
     "text": [
      "0.6\n"
     ]
    },
    {
     "data": {
      "text/plain": [
       "0"
      ]
     },
     "execution_count": 934,
     "metadata": {},
     "output_type": "execute_result"
    }
   ],
   "source": [
    "x = calc_or(W, b, np.array([0, 0]))\n",
    "x"
   ]
  },
  {
   "cell_type": "markdown",
   "metadata": {},
   "source": [
    "## 3. X-OR"
   ]
  },
  {
   "cell_type": "code",
   "execution_count": 856,
   "metadata": {},
   "outputs": [],
   "source": [
    "import numpy as np\n",
    "W = np.array([1.5, -0.5])\n",
    "b = 0.8\n",
    "\n",
    "p1 = np.array([1, 1])\n",
    "t1 = 0\n",
    "p2 = np.array([1, 0])\n",
    "t2 = 1\n",
    "p3 = np.array([0, 0])\n",
    "t3 = 0\n",
    "p4 = np.array([0, 1])\n",
    "t4 = 1"
   ]
  },
  {
   "cell_type": "code",
   "execution_count": 857,
   "metadata": {},
   "outputs": [],
   "source": [
    "def calc_xor(Weight, b, p):\n",
    "    p = np.transpose(p)\n",
    "    a = np.dot(Weight, p) + b\n",
    "    print(a)\n",
    "    if a < 2 and a > 0.5:\n",
    "        a = 0\n",
    "    else:\n",
    "        a = 1\n",
    "    print(a)\n",
    "    return a"
   ]
  },
  {
   "cell_type": "code",
   "execution_count": 858,
   "metadata": {},
   "outputs": [
    {
     "name": "stdout",
     "output_type": "stream",
     "text": [
      "1.8\n",
      "0\n"
     ]
    },
    {
     "data": {
      "text/plain": [
       "(array([ 1.5, -0.5]), 0.8)"
      ]
     },
     "execution_count": 858,
     "metadata": {},
     "output_type": "execute_result"
    }
   ],
   "source": [
    "a1 = calc_xor(W, b, p1)\n",
    "W, b = update_weight(t1, a1, W, b, p1)\n",
    "W, b"
   ]
  },
  {
   "cell_type": "code",
   "execution_count": 859,
   "metadata": {},
   "outputs": [
    {
     "name": "stdout",
     "output_type": "stream",
     "text": [
      "2.3\n",
      "1\n"
     ]
    },
    {
     "data": {
      "text/plain": [
       "(array([ 1.5, -0.5]), 0.8)"
      ]
     },
     "execution_count": 859,
     "metadata": {},
     "output_type": "execute_result"
    }
   ],
   "source": [
    "a2 = calc_xor(W, b, p2)\n",
    "W, b = update_weight(t2, a2, W, b, p2)\n",
    "W, b"
   ]
  },
  {
   "cell_type": "code",
   "execution_count": 860,
   "metadata": {},
   "outputs": [
    {
     "name": "stdout",
     "output_type": "stream",
     "text": [
      "0.8\n",
      "0\n"
     ]
    },
    {
     "data": {
      "text/plain": [
       "(array([ 1.5, -0.5]), 0.8)"
      ]
     },
     "execution_count": 860,
     "metadata": {},
     "output_type": "execute_result"
    }
   ],
   "source": [
    "a3 = calc_xor(W, b, p3)\n",
    "W, b = update_weight(t3, a3, W, b, p3)\n",
    "W, b"
   ]
  },
  {
   "cell_type": "code",
   "execution_count": 861,
   "metadata": {},
   "outputs": [
    {
     "name": "stdout",
     "output_type": "stream",
     "text": [
      "0.30000000000000004\n",
      "1\n"
     ]
    },
    {
     "data": {
      "text/plain": [
       "(array([ 1.5, -0.5]), 0.8)"
      ]
     },
     "execution_count": 861,
     "metadata": {},
     "output_type": "execute_result"
    }
   ],
   "source": [
    "a4 = calc_xor(W, b, p4)\n",
    "W, b = update_weight(t4, a4, W, b, p4)\n",
    "W, b"
   ]
  },
  {
   "cell_type": "code",
   "execution_count": 862,
   "metadata": {},
   "outputs": [
    {
     "name": "stdout",
     "output_type": "stream",
     "text": [
      "2.3\n",
      "1\n"
     ]
    }
   ],
   "source": [
    "x = calc_xor(W, b, np.array([1, 0]))"
   ]
  },
  {
   "cell_type": "markdown",
   "metadata": {},
   "source": [
    "## 3. X-NOR"
   ]
  },
  {
   "cell_type": "code",
   "execution_count": 863,
   "metadata": {},
   "outputs": [],
   "source": [
    "import numpy as np\n",
    "W = np.array([0.5, 0.6])\n",
    "b = 0.5\n",
    "\n",
    "p1 = np.array([1, 1])\n",
    "t1 = 1\n",
    "p2 = np.array([1, 0])\n",
    "t2 = 0\n",
    "p3 = np.array([0, 0])\n",
    "t3 = 1\n",
    "p4 = np.array([0, 1])\n",
    "t4 = 0"
   ]
  },
  {
   "cell_type": "code",
   "execution_count": 864,
   "metadata": {},
   "outputs": [],
   "source": [
    "def calc_xnor(Weight, b, p):\n",
    "    p = np.transpose(p)\n",
    "    a = np.dot(Weight, p) + b\n",
    "    print(a)\n",
    "#     if a > 0:\n",
    "#         a = 1\n",
    "#     else:\n",
    "#         a = 0\n",
    "    return a"
   ]
  },
  {
   "cell_type": "code",
   "execution_count": 865,
   "metadata": {},
   "outputs": [
    {
     "name": "stdout",
     "output_type": "stream",
     "text": [
      "1.6\n"
     ]
    },
    {
     "data": {
      "text/plain": [
       "(array([-1.00000000e-01, -1.11022302e-16]), -0.10000000000000009)"
      ]
     },
     "execution_count": 865,
     "metadata": {},
     "output_type": "execute_result"
    }
   ],
   "source": [
    "a1 = calc_xnor(W, b, p1)\n",
    "W, b = update_weight(t1, a1, W, b, p1)\n",
    "W, b"
   ]
  },
  {
   "cell_type": "code",
   "execution_count": 866,
   "metadata": {},
   "outputs": [
    {
     "name": "stdout",
     "output_type": "stream",
     "text": [
      "-0.20000000000000018\n"
     ]
    },
    {
     "data": {
      "text/plain": [
       "(array([ 1.00000000e-01, -1.11022302e-16]), 0.10000000000000009)"
      ]
     },
     "execution_count": 866,
     "metadata": {},
     "output_type": "execute_result"
    }
   ],
   "source": [
    "a2 = calc_xnor(W, b, p2)\n",
    "W, b = update_weight(t2, a2, W, b, p2)\n",
    "W, b"
   ]
  },
  {
   "cell_type": "code",
   "execution_count": 867,
   "metadata": {},
   "outputs": [
    {
     "name": "stdout",
     "output_type": "stream",
     "text": [
      "0.10000000000000009\n"
     ]
    },
    {
     "data": {
      "text/plain": [
       "(array([ 1.00000000e-01, -1.11022302e-16]), 1.0)"
      ]
     },
     "execution_count": 867,
     "metadata": {},
     "output_type": "execute_result"
    }
   ],
   "source": [
    "a3 = calc_xnor(W, b, p3)\n",
    "W, b = update_weight(t3, a3, W, b, p3)\n",
    "W, b"
   ]
  },
  {
   "cell_type": "code",
   "execution_count": 868,
   "metadata": {},
   "outputs": [
    {
     "name": "stdout",
     "output_type": "stream",
     "text": [
      "1.1\n"
     ]
    },
    {
     "data": {
      "text/plain": [
       "(array([ 0.1, -1.1]), -0.10000000000000009)"
      ]
     },
     "execution_count": 868,
     "metadata": {},
     "output_type": "execute_result"
    }
   ],
   "source": [
    "a4 = calc_xnor(W, b, p1)\n",
    "W, b = update_weight(t4, a4, W, b, p4)\n",
    "W, b"
   ]
  },
  {
   "cell_type": "code",
   "execution_count": 869,
   "metadata": {},
   "outputs": [
    {
     "name": "stdout",
     "output_type": "stream",
     "text": [
      "0.0\n"
     ]
    },
    {
     "data": {
      "text/plain": [
       "0.0"
      ]
     },
     "execution_count": 869,
     "metadata": {},
     "output_type": "execute_result"
    }
   ],
   "source": [
    "x = calc_xnor(W, b, np.array([1, 0]))\n",
    "x"
   ]
  },
  {
   "cell_type": "code",
   "execution_count": null,
   "metadata": {},
   "outputs": [],
   "source": []
  }
 ],
 "metadata": {
  "kernelspec": {
   "display_name": "Python 3",
   "language": "python",
   "name": "python3"
  },
  "language_info": {
   "codemirror_mode": {
    "name": "ipython",
    "version": 3
   },
   "file_extension": ".py",
   "mimetype": "text/x-python",
   "name": "python",
   "nbconvert_exporter": "python",
   "pygments_lexer": "ipython3",
   "version": "3.7.4"
  }
 },
 "nbformat": 4,
 "nbformat_minor": 2
}
